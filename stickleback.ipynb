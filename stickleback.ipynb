{
 "cells": [
  {
   "cell_type": "markdown",
   "metadata": {},
   "source": [
    "In this notebook we'll train a classifier to find **point behaviors** in inertial sensor data."
   ]
  },
  {
   "cell_type": "code",
   "execution_count": 1,
   "metadata": {},
   "outputs": [],
   "source": [
    "import matplotlib.pyplot as plt\n",
    "import numpy as np\n",
    "import pandas as pd\n",
    "from sktime.classification.compose import TimeSeriesForestClassifier, ColumnEnsembleClassifier\n",
    "from sktime.utils.data_container import from_3d_numpy_to_nested\n",
    "from typing import List"
   ]
  },
  {
   "cell_type": "markdown",
   "metadata": {},
   "source": [
    "Generate dummy sensor data and randomly assign events"
   ]
  },
  {
   "cell_type": "code",
   "execution_count": 2,
   "metadata": {},
   "outputs": [
    {
     "data": {
      "image/png": "[encoded data removed]",
      "text/plain": [
       "<Figure size 432x288 with 1 Axes>"
      ]
     },
     "metadata": {
      "needs_background": "light"
     },
     "output_type": "display_data"
    }
   ],
   "source": [
    "def random_sensor(n):\n",
    "    return np.random.uniform(low=-1, high=1, size=n).cumsum()\n",
    "N = 10000\n",
    "sensors = pd.DataFrame(\n",
    "    {\n",
    "        \"pitch\": random_sensor(N),\n",
    "        \"roll\": random_sensor(N),\n",
    "        \"jerk\": random_sensor(N)**2\n",
    "    }\n",
    ")\n",
    "N_events = 20\n",
    "events = np.random.choice(range(N), size=N_events, replace=False)\n",
    "events.sort()\n",
    "\n",
    "# Plot dummy sensor data\n",
    "sensors.plot.line(y=[\"pitch\", \"roll\", \"jerk\"], color=[\"#DD9A00\", \"#6AB5EC\", \"#3FA072\"])\n",
    "for y in [\"pitch\", \"roll\", \"jerk\"]:\n",
    "    plt.scatter(x=events, y=y, data=sensors.iloc[events], marker=\"o\", color=\"red\")\n",
    "\n",
    "# How do I make the red points appear over the lines?"
   ]
  },
  {
   "cell_type": "markdown",
   "metadata": {},
   "source": [
    "Create the training dataset consisting of **all** positive (i.e., the events) and an equal sample size of negatives (randomly selected). We'll use 20 record windows and make sure negative sample windows don't overlap the positives."
   ]
  },
  {
   "cell_type": "code",
   "execution_count": 3,
   "metadata": {},
   "outputs": [
    {
     "name": "stdout",
     "output_type": "stream",
     "text": [
      "+: [ 210  531 1550 2586 3073 3317 3981 4154 5457 6127 6545 7302 7693 7815\n",
      " 8269 8301 8619 8847 8912 9676]\n",
      "-: [ 340  440  660 1200 1220 1620 2140 2300 3220 3380 4280 4700 4940 6620\n",
      " 6940 7380 9220 9260 9400 9860]\n"
     ]
    }
   ],
   "source": [
    "# Negatives must be 10 records removed from a positive\n",
    "win_size = 20\n",
    "positives = events\n",
    "\n",
    "def diff_from(xs: np.ndarray, ys: np.ndarray) -> np.ndarray:\n",
    "    \"\"\"\n",
    "    Return the array-wise least difference from another array\n",
    "    \n",
    "        Parameters:\n",
    "            xs: the basis array\n",
    "            ys: the target array\n",
    "            \n",
    "        Returns:\n",
    "            The minimum absolute difference for each element of xs from the closest value in ys\n",
    "    \"\"\"\n",
    "    return np.array([np.min(np.abs(x - ys)) for x in xs])\n",
    "\n",
    "# Valid indices for negatives\n",
    "negative_choices = np.array(range(win_size, len(sensors.index) - win_size - 1, win_size))\n",
    "diff_from_pos = diff_from(negative_choices, positives)\n",
    "diff_from_pos > win_size\n",
    "negative_choices = negative_choices[diff_from_pos > win_size]\n",
    "\n",
    "# Randomly choose \n",
    "negatives = np.random.choice(negative_choices, size=len(positives), replace=False)\n",
    "negatives.sort()\n",
    "\n",
    "print(\"+: \" + str(positives))\n",
    "print(\"-: \" + str(negatives))"
   ]
  },
  {
   "cell_type": "markdown",
   "metadata": {},
   "source": [
    "Convert positives and negatives to sktime-compatible format"
   ]
  },
  {
   "cell_type": "code",
   "execution_count": 5,
   "metadata": {},
   "outputs": [],
   "source": [
    "def extract_nested(data: pd.DataFrame, idx: List[int], window_size: int, label: str) -> pd.DataFrame:\n",
    "    \"\"\"\n",
    "    Combine samples and reformat for sktime\n",
    "    \n",
    "        Parameters:\n",
    "            data: longitudinal sensor data\n",
    "            idx: indices of sample centers\n",
    "            window_size: number of records in each sample window\n",
    "            category: name of label (e.g., \"positive\" or \"negative\")\n",
    "        \n",
    "        Returns:\n",
    "            Sample windows in nested sktime DataFrame format\n",
    "    \"\"\"\n",
    "    # Create a 3d numpy array of breath data\n",
    "    breaths_3d = np.empty([len(idx), len(data.columns), window_size], float)\n",
    "    data_arr = data.to_numpy().transpose()\n",
    "    start_idx = idx - int(window_size / 2)\n",
    "    for i, start in enumerate(start_idx):\n",
    "        breaths_3d[i] = data_arr[:, start:(start + window_size)]\n",
    "\n",
    "    # Convert 3d numpy array to nested sktime DataFrame format\n",
    "    nested = from_3d_numpy_to_nested(breaths_3d)\n",
    "    nested.columns = data.columns\n",
    "    nested[\"label\"] = label\n",
    "    nested.index = idx\n",
    "    \n",
    "    return nested\n",
    "\n",
    "clf_data = pd.concat([extract_nested(sensors, positives, win_size, \"pos\"),\n",
    "                      extract_nested(sensors, negatives, win_size, \"neg\")])"
   ]
  }
 ],
 "metadata": {
  "kernelspec": {
   "display_name": "Python 3",
   "language": "python",
   "name": "python3"
  },
  "language_info": {
   "codemirror_mode": {
    "name": "ipython",
    "version": 3
   },
   "file_extension": ".py",
   "mimetype": "text/x-python",
   "name": "python",
   "nbconvert_exporter": "python",
   "pygments_lexer": "ipython3",
   "version": "3.8.3"
  }
 },
 "nbformat": 4,
 "nbformat_minor": 4
}
