{
 "cells": [
  {
   "cell_type": "markdown",
   "metadata": {},
   "source": [
    "In this notebook we'll train a classifier to find **point behaviors** in inertial sensor data."
   ]
  },
  {
   "cell_type": "code",
   "execution_count": 53,
   "metadata": {},
   "outputs": [],
   "source": [
    "from IPython.display import display\n",
    "import matplotlib.pyplot as plt\n",
    "import numpy as np\n",
    "import pandas as pd\n",
    "from sklearn.model_selection import train_test_split\n",
    "from sktime.classification.compose import TimeSeriesForestClassifier, ColumnEnsembleClassifier\n",
    "from sktime.utils.data_container import from_3d_numpy_to_nested\n",
    "from typing import List, Tuple\n",
    "\n",
    "rg = np.random.Generator(np.random.PCG64(1134))\n",
    "def flatten(list_of_lists: List[List]) -> List:\n",
    "    \"\"\"\n",
    "    Flatten a list of lists\n",
    "    \n",
    "        Parameters: \n",
    "            list_of_lists: a nested list\n",
    "        \n",
    "        Return:\n",
    "            A flattened list \n",
    "    \n",
    "    \"\"\"\n",
    "    return [i for sublist in list_of_lists for i in sublist]"
   ]
  },
  {
   "cell_type": "markdown",
   "metadata": {},
   "source": [
    "Generate dummy sensor data and randomly assign events"
   ]
  },
  {
   "cell_type": "code",
   "execution_count": 32,
   "metadata": {},
   "outputs": [
    {
     "data": {
      "image/png": "[encoded data removed]",
      "text/plain": [
       "<Figure size 432x288 with 1 Axes>"
      ]
     },
     "metadata": {
      "needs_background": "light"
     },
     "output_type": "display_data"
    }
   ],
   "source": [
    "def random_sensor(n):\n",
    "    return rg.uniform(low=-1., high=1., size=n).cumsum()\n",
    "N = 10000\n",
    "sensors = pd.DataFrame(\n",
    "    {\n",
    "        \"pitch\": random_sensor(N),\n",
    "        \"roll\": random_sensor(N),\n",
    "        \"jerk\": random_sensor(N)**2\n",
    "    }\n",
    ")\n",
    "N_events = 20\n",
    "events = rg.choice(range(N), size=N_events, replace=False)\n",
    "events.sort()\n",
    "\n",
    "# Plot dummy sensor data\n",
    "sensors.plot.line(y=[\"pitch\", \"roll\", \"jerk\"], color=[\"#DD9A00\", \"#6AB5EC\", \"#3FA072\"])\n",
    "for y in [\"pitch\", \"roll\", \"jerk\"]:\n",
    "    plt.scatter(x=events, y=y, data=sensors.iloc[events], marker=\"o\", color=\"red\")\n",
    "\n",
    "# How do I make the red points appear over the lines?"
   ]
  },
  {
   "cell_type": "markdown",
   "metadata": {},
   "source": [
    "Create the training dataset consisting of **all** positive (i.e., the events) and an equal sample size of negatives (randomly selected). We'll use 20 record windows and make sure negative sample windows don't overlap the positives."
   ]
  },
  {
   "cell_type": "code",
   "execution_count": 3,
   "metadata": {},
   "outputs": [
    {
     "name": "stdout",
     "output_type": "stream",
     "text": [
      "+: [  87 2097 2370 2457 2822 3133 3854 4158 4471 5212 5508 5964 6141 6172\n",
      " 6920 7196 7684 7936 8270 9609]\n",
      "-: [ 320 1060 1420 1840 1920 2420 2560 3420 4400 4740 4900 5040 6640 7060\n",
      " 7660 7740 8760 8940 9340 9760]\n"
     ]
    }
   ],
   "source": [
    "# Negatives must be 10 records removed from a positive\n",
    "win_size = 20\n",
    "positives = events\n",
    "\n",
    "def diff_from(xs: np.ndarray, ys: np.ndarray) -> np.ndarray:\n",
    "    \"\"\"\n",
    "    Return the array-wise least difference from another array\n",
    "    \n",
    "        Parameters:\n",
    "            xs: the basis array\n",
    "            ys: the target array\n",
    "            \n",
    "        Returns:\n",
    "            The minimum absolute difference for each element of xs from the closest value in ys\n",
    "    \"\"\"\n",
    "    return np.array([np.min(np.abs(x - ys)) for x in xs])\n",
    "\n",
    "# Valid indices for negatives\n",
    "negative_choices = np.array(range(win_size, len(sensors.index) - win_size - 1, win_size))\n",
    "diff_from_pos = diff_from(negative_choices, positives)\n",
    "negative_choices = negative_choices[diff_from_pos > win_size]\n",
    "\n",
    "# Randomly choose \n",
    "negatives = rg.choice(negative_choices, size=len(positives), replace=False)\n",
    "negatives.sort()\n",
    "\n",
    "print(\"+: \" + str(positives))\n",
    "print(\"-: \" + str(negatives))"
   ]
  },
  {
   "cell_type": "markdown",
   "metadata": {},
   "source": [
    "Convert positives and negatives to sktime-compatible format"
   ]
  },
  {
   "cell_type": "code",
   "execution_count": 56,
   "metadata": {},
   "outputs": [
    {
     "data": {
      "text/html": [
       "<div>\n",
       "<style scoped>\n",
       "    .dataframe tbody tr th:only-of-type {\n",
       "        vertical-align: middle;\n",
       "    }\n",
       "\n",
       "    .dataframe tbody tr th {\n",
       "        vertical-align: top;\n",
       "    }\n",
       "\n",
       "    .dataframe thead th {\n",
       "        text-align: right;\n",
       "    }\n",
       "</style>\n",
       "<table border=\"1\" class=\"dataframe\">\n",
       "  <thead>\n",
       "    <tr style=\"text-align: right;\">\n",
       "      <th></th>\n",
       "      <th>pitch</th>\n",
       "      <th>roll</th>\n",
       "      <th>jerk</th>\n",
       "    </tr>\n",
       "  </thead>\n",
       "  <tbody>\n",
       "    <tr>\n",
       "      <th>87</th>\n",
       "      <td>0     0.455932\n",
       "1    -0.218355\n",
       "2    -0.284260\n",
       "3...</td>\n",
       "      <td>0    -3.402498\n",
       "1    -4.279768\n",
       "2    -3.952486\n",
       "3...</td>\n",
       "      <td>0     31.258315\n",
       "1     21.458979\n",
       "2     17.81577...</td>\n",
       "    </tr>\n",
       "    <tr>\n",
       "      <th>2097</th>\n",
       "      <td>0     15.612186\n",
       "1     15.719214\n",
       "2     16.16845...</td>\n",
       "      <td>0     23.516252\n",
       "1     22.916414\n",
       "2     22.18303...</td>\n",
       "      <td>0     37.535682\n",
       "1     41.048855\n",
       "2     37.13517...</td>\n",
       "    </tr>\n",
       "    <tr>\n",
       "      <th>2370</th>\n",
       "      <td>0     17.653407\n",
       "1     18.152865\n",
       "2     17.41987...</td>\n",
       "      <td>0     25.434132\n",
       "1     24.731373\n",
       "2     25.36260...</td>\n",
       "      <td>0      95.463710\n",
       "1     110.278439\n",
       "2     100.06...</td>\n",
       "    </tr>\n",
       "    <tr>\n",
       "      <th>2457</th>\n",
       "      <td>0     25.186732\n",
       "1     25.432095\n",
       "2     26.18559...</td>\n",
       "      <td>0     21.356796\n",
       "1     22.068691\n",
       "2     22.50499...</td>\n",
       "      <td>0     27.864540\n",
       "1     20.486574\n",
       "2     12.46810...</td>\n",
       "    </tr>\n",
       "    <tr>\n",
       "      <th>2822</th>\n",
       "      <td>0     15.521597\n",
       "1     15.887961\n",
       "2     16.07942...</td>\n",
       "      <td>0     29.308224\n",
       "1     29.141110\n",
       "2     29.34109...</td>\n",
       "      <td>0      7.582160\n",
       "1     10.210550\n",
       "2     15.91217...</td>\n",
       "    </tr>\n",
       "  </tbody>\n",
       "</table>\n",
       "</div>"
      ],
      "text/plain": [
       "                                                  pitch  \\\n",
       "87    0     0.455932\n",
       "1    -0.218355\n",
       "2    -0.284260\n",
       "3...   \n",
       "2097  0     15.612186\n",
       "1     15.719214\n",
       "2     16.16845...   \n",
       "2370  0     17.653407\n",
       "1     18.152865\n",
       "2     17.41987...   \n",
       "2457  0     25.186732\n",
       "1     25.432095\n",
       "2     26.18559...   \n",
       "2822  0     15.521597\n",
       "1     15.887961\n",
       "2     16.07942...   \n",
       "\n",
       "                                                   roll  \\\n",
       "87    0    -3.402498\n",
       "1    -4.279768\n",
       "2    -3.952486\n",
       "3...   \n",
       "2097  0     23.516252\n",
       "1     22.916414\n",
       "2     22.18303...   \n",
       "2370  0     25.434132\n",
       "1     24.731373\n",
       "2     25.36260...   \n",
       "2457  0     21.356796\n",
       "1     22.068691\n",
       "2     22.50499...   \n",
       "2822  0     29.308224\n",
       "1     29.141110\n",
       "2     29.34109...   \n",
       "\n",
       "                                                   jerk  \n",
       "87    0     31.258315\n",
       "1     21.458979\n",
       "2     17.81577...  \n",
       "2097  0     37.535682\n",
       "1     41.048855\n",
       "2     37.13517...  \n",
       "2370  0      95.463710\n",
       "1     110.278439\n",
       "2     100.06...  \n",
       "2457  0     27.864540\n",
       "1     20.486574\n",
       "2     12.46810...  \n",
       "2822  0      7.582160\n",
       "1     10.210550\n",
       "2     15.91217...  "
      ]
     },
     "metadata": {},
     "output_type": "display_data"
    },
    {
     "name": "stdout",
     "output_type": "stream",
     "text": [
      "['pos', 'pos', 'pos', 'pos', 'pos']\n"
     ]
    }
   ],
   "source": [
    "nested = Tuple[pd.DataFrame, List[str]]\n",
    "def extract_nested(data: pd.DataFrame, idx: List[int], window_size: int, label: str) -> nested:\n",
    "    \"\"\"\n",
    "    Combine samples and reformat into nested sktime\n",
    "    \n",
    "        Parameters:\n",
    "            data: longitudinal sensor data\n",
    "            idx: indices of sample centers\n",
    "            window_size: number of records in each sample window\n",
    "            label: class label (e.g., \"positive\" or \"negative\")\n",
    "        \n",
    "        Returns:\n",
    "            A tuple of sample windows in nested sktime DataFrame format and their labels\n",
    "    \"\"\"\n",
    "    # Create a 3d numpy array of window data\n",
    "    data_3d = np.empty([len(idx), len(data.columns), window_size], float)\n",
    "    data_arr = data.to_numpy().transpose()\n",
    "    start_idx = idx - int(window_size / 2)\n",
    "    for i, start in enumerate(start_idx):\n",
    "        data_3d[i] = data_arr[:, start:(start + window_size)]\n",
    "\n",
    "    # Convert 3d numpy array to nested sktime DataFrame format\n",
    "    nested = from_3d_numpy_to_nested(data_3d)\n",
    "    nested.columns = data.columns\n",
    "    nested.index = idx\n",
    "    \n",
    "    return nested, [label] * len(idx)\n",
    "\n",
    "def concat_nested(nested: List[nested]) -> nested:\n",
    "    \"\"\"\n",
    "    Concatenate multiple sample sets in nested sktime format \n",
    "    \n",
    "        Parameters:\n",
    "            nested: list of samples in nested sktime format (as returned by extract_nested())\n",
    "        \n",
    "        Returns:\n",
    "            The concatenated nested samples\n",
    "    \"\"\"\n",
    "    return (pd.concat([n[0] for n in nested]), flatten([n[1] for n in nested]))\n",
    "\n",
    "clf_positives = extract_nested(sensors, positives, win_size, \"pos\")\n",
    "clf_negatives = extract_nested(sensors, negatives, win_size, \"neg\")\n",
    "clf_data = concat_nested([clf_positives, clf_negatives])\n",
    "display(clf_data[0].head())\n",
    "print(clf_data[1][0:5])"
   ]
  },
  {
   "cell_type": "markdown",
   "metadata": {},
   "source": [
    "Fit a ColumnEnsembleClassifier composed of TimeSeriesForest estimators"
   ]
  },
  {
   "cell_type": "code",
   "execution_count": 58,
   "metadata": {},
   "outputs": [
    {
     "data": {
      "text/plain": [
       "0.5"
      ]
     },
     "execution_count": 58,
     "metadata": {},
     "output_type": "execute_result"
    }
   ],
   "source": [
    "clf = ColumnEnsembleClassifier(\n",
    "    estimators=[(\"TSF_\" + c, TimeSeriesForestClassifier(n_estimators=100), [i]) \n",
    "                for i, c in enumerate(clf_data[0].columns)]\n",
    ")\n",
    "X_train, X_test, y_train, y_test = train_test_split(clf_data[0], clf_data[1], random_state=42)\n",
    "clf.fit(X_train, y_train)\n",
    "clf.score(X_test, y_test)"
   ]
  }
 ],
 "metadata": {
  "kernelspec": {
   "display_name": "Python 3",
   "language": "python",
   "name": "python3"
  },
  "language_info": {
   "codemirror_mode": {
    "name": "ipython",
    "version": 3
   },
   "file_extension": ".py",
   "mimetype": "text/x-python",
   "name": "python",
   "nbconvert_exporter": "python",
   "pygments_lexer": "ipython3",
   "version": "3.8.3"
  }
 },
 "nbformat": 4,
 "nbformat_minor": 4
}
