{
 "cells": [
  {
   "cell_type": "markdown",
   "metadata": {},
   "source": [
    "# Stickleback"
   ]
  },
  {
   "cell_type": "markdown",
   "metadata": {},
   "source": [
    "In this notebook we'll train a classifier to find *point behaviors* in bio-logging sensor data using the `stickleback` module."
   ]
  },
  {
   "cell_type": "code",
   "execution_count": null,
   "metadata": {},
   "outputs": [],
   "source": [
    "%load_ext autoreload\n",
    "%autoreload 2"
   ]
  },
  {
   "cell_type": "code",
   "execution_count": null,
   "metadata": {},
   "outputs": [],
   "source": [
    "from datetime import datetime\n",
    "from IPython.display import display\n",
    "import numpy as np\n",
    "import pandas as pd\n",
    "from stickleback.stickleback import Stickleback\n",
    "print(datetime.now().strftime(\"%H:%M:%S\"))"
   ]
  },
  {
   "cell_type": "markdown",
   "metadata": {},
   "source": [
    "We begin by reading the example data (bio-logger sensor data and events) and visualizing them."
   ]
  },
  {
   "cell_type": "code",
   "execution_count": null,
   "metadata": {},
   "outputs": [],
   "source": [
    "# Read example data\n",
    "breath_sb = Stickleback(\n",
    "    sensors=pd.read_pickle(\"../data/multi_prh.pkl\"), \n",
    "    events=pd.read_pickle(\"../data/multi_breaths.pkl\").index,\n",
    "    win_size=50, min_period=5\n",
    ")\n",
    "\n",
    "breath_sb.plot_sensors_events(\"bw180828-49\", interactive=True)"
   ]
  },
  {
   "cell_type": "markdown",
   "metadata": {},
   "source": [
    "We create the training dataset using all known events and an equal sample size of randomly selected non-events."
   ]
  },
  {
   "cell_type": "code",
   "execution_count": null,
   "metadata": {},
   "outputs": [],
   "source": [
    "breath_sb.sample_nonevents()\n",
    "print(\"+: {}\\n-: {}\".format(breath_sb.event_idx, breath_sb.nonevent_idx))\n",
    "breath_sb.extract_training_data()\n",
    "display(breath_sb.clf_data.head())\n",
    "display(breath_sb.clf_data.tail())\n",
    "print(\"labels: {} ... {}\".format(breath_sb.clf_labels[0:5], breath_sb.clf_labels[-5:]))"
   ]
  },
  {
   "cell_type": "markdown",
   "metadata": {},
   "source": [
    "Using the training data: fit the model, make predictions, and assess in-sample accuracy."
   ]
  },
  {
   "cell_type": "code",
   "execution_count": null,
   "metadata": {},
   "outputs": [],
   "source": [
    "breath_sb.fit()\n",
    "pred_proba, pred_idx = breath_sb.predict_self(nth=5)"
   ]
  },
  {
   "cell_type": "code",
   "execution_count": null,
   "metadata": {},
   "outputs": [],
   "source": [
    "outcomes = breath_sb.assess(pred_idx, tol=pd.Timedelta(\"5s\"))\n",
    "outcomes_by_deployid = pd.pivot_table(outcomes.reset_index(), index=[\"deployid\"], columns=[\"outcome\"], aggfunc=len)\n",
    "display(outcomes_by_deployid.droplevel(0, axis=1)[[\"TP\", \"FP\", \"FN\"]])"
   ]
  },
  {
   "cell_type": "code",
   "execution_count": null,
   "metadata": {},
   "outputs": [],
   "source": [
    "breath_sb.plot_predictions(\"mn190228-42\", pred_proba, pred_idx, outcomes, interactive=True)"
   ]
  },
  {
   "cell_type": "markdown",
   "metadata": {},
   "source": [
    "The randomly sampled non-events are unlikely to contain much useful information for differentiating events from things that *almost* look like events. That's why the first round of predictions have many true positives and few false negatives, but many false positives as well. The false positives are *almost* events that we use to refine the model."
   ]
  },
  {
   "cell_type": "code",
   "execution_count": null,
   "metadata": {},
   "outputs": [],
   "source": [
    "false_positive_idx = outcomes[outcomes == \"FP\"].index\n",
    "breath_sb.refit(false_positive_idx, [Stickleback.nonevent] * len(false_positive_idx))\n",
    "pred_proba, pred_idx = breath_sb.predict_self(nth=5)\n",
    "outcomes = breath_sb.assess(pred_idx, tol=pd.Timedelta(\"5s\"))\n",
    "outcomes_by_deployid = pd.pivot_table(outcomes.reset_index(), index=[\"deployid\"], columns=[\"outcome\"], aggfunc=len)\n",
    "display(outcomes_by_deployid.droplevel(0, axis=1)[[\"TP\", \"FP\", \"FN\"]])"
   ]
  },
  {
   "cell_type": "code",
   "execution_count": null,
   "metadata": {},
   "outputs": [],
   "source": [
    "breath_sb.plot_predictions(\"bw180828-49\", pred_proba, pred_idx, outcomes, interactive=True)"
   ]
  },
  {
   "cell_type": "code",
   "execution_count": null,
   "metadata": {},
   "outputs": [],
   "source": [
    "breath_sb.plot_predictions(\"mn170810-42\", pred_proba, pred_idx, outcomes, interactive=True)"
   ]
  },
  {
   "cell_type": "code",
   "execution_count": null,
   "metadata": {},
   "outputs": [],
   "source": [
    "breath_loo = breath_sb.loo(nth=5, tol=pd.Timedelta(\"5s\"))\n",
    "print(datetime.now().strftime(\"%H:%M:%S\"))"
   ]
  },
  {
   "cell_type": "code",
   "execution_count": null,
   "metadata": {},
   "outputs": [],
   "source": []
  }
 ],
 "metadata": {
  "kernelspec": {
   "display_name": "stickleback",
   "language": "python",
   "name": "stickleback"
  },
  "language_info": {
   "codemirror_mode": {
    "name": "ipython",
    "version": 3
   },
   "file_extension": ".py",
   "mimetype": "text/x-python",
   "name": "python",
   "nbconvert_exporter": "python",
   "pygments_lexer": "ipython3",
   "version": "3.8.0"
  }
 },
 "nbformat": 4,
 "nbformat_minor": 4
}
