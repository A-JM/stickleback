{
 "cells": [
  {
   "cell_type": "markdown",
   "id": "danish-question",
   "metadata": {},
   "source": [
    "# Import lunges for training behavioral classifier"
   ]
  },
  {
   "cell_type": "code",
   "execution_count": 1,
   "id": "cellular-fossil",
   "metadata": {},
   "outputs": [],
   "source": [
    "from glob import glob\n",
    "from ipdb import set_trace\n",
    "from ipyfilechooser import FileChooser\n",
    "import pandas as pd\n",
    "import pickle as pkl\n",
    "import re"
   ]
  },
  {
   "cell_type": "markdown",
   "id": "smooth-kinase",
   "metadata": {},
   "source": [
    "Choose folder with PRHs and lunges in .csv format"
   ]
  },
  {
   "cell_type": "code",
   "execution_count": 2,
   "id": "spoken-force",
   "metadata": {},
   "outputs": [
    {
     "data": {
      "application/vnd.jupyter.widget-view+json": {
       "model_id": "6bf4653e62434aee81c2654238c486da",
       "version_major": 2,
       "version_minor": 0
      },
      "text/plain": [
       "FileChooser(path='/Users/frank/Documents/GitHub/development/stickleback/notebooks', filename='', title='HTML(v…"
      ]
     },
     "metadata": {},
     "output_type": "display_data"
    }
   ],
   "source": [
    "fc = FileChooser()\n",
    "fc.title = '<b>Folder with lunge deployments</b>'\n",
    "fc.show_only_dirs = True\n",
    "display(fc)\n"
   ]
  },
  {
   "cell_type": "markdown",
   "id": "muslim-summer",
   "metadata": {},
   "source": [
    "List data files and deployment ids."
   ]
  },
  {
   "cell_type": "code",
   "execution_count": 3,
   "id": "rental-joint",
   "metadata": {},
   "outputs": [],
   "source": [
    "files = glob(fc.selected_path + \"/*\")\n",
    "deployids = set(re.findall(r\"[a-z]{2}[0-9]{6}-[0-9]+[a-z]?\", \";\".join(files)))\n",
    "lunge_prhs = dict()\n",
    "lunge_events = dict()"
   ]
  },
  {
   "cell_type": "markdown",
   "id": "coordinate-emission",
   "metadata": {},
   "source": [
    "Iterate through deployments and read PRHs, lunges. Save to pickle file."
   ]
  },
  {
   "cell_type": "code",
   "execution_count": 4,
   "id": "later-promotion",
   "metadata": {},
   "outputs": [],
   "source": [
    "for deployid in deployids:\n",
    "    r = re.compile(\".*{} 10Hz.*\".format(deployid))\n",
    "    prh_path = list(filter(r.match, files))[0]\n",
    "    r = re.compile(\".*{}_lunge.*\".format(deployid))\n",
    "    lunge_path = list(filter(r.match, files))[0]\n",
    "\n",
    "    prh0 = pd.read_csv(prh_path)\n",
    "    prh0.index = pd.to_datetime(prh0[\"datetime\"])\n",
    "    prh0.drop([\"datetime\"], axis=1, inplace=True)\n",
    "    prh0.sort_index(inplace=True)\n",
    "\n",
    "    fs = \"100ms\"\n",
    "    prh_start, prh_end = prh0.index[0].round(fs), prh0.index[-2].round(fs)\n",
    "    lunge_prhs[deployid] = pd.merge_asof(pd.DataFrame(index=pd.date_range(prh_start, prh_end, freq=fs)), \n",
    "                                         prh0,\n",
    "                                         left_index=True,\n",
    "                                         right_index=True)\n",
    "\n",
    "    lunges0 = pd.read_csv(lunge_path)\n",
    "    lunge_events[deployid] = pd.DatetimeIndex(lunges0[\"lungetime\"])"
   ]
  },
  {
   "cell_type": "code",
   "execution_count": 11,
   "id": "egyptian-mainland",
   "metadata": {},
   "outputs": [
    {
     "data": {
      "text/plain": [
       "['bp160614-3b',\n",
       " 'bp180830-53',\n",
       " 'bw180827-49',\n",
       " 'bw180829-42',\n",
       " 'bw180904-52',\n",
       " 'mn170220-30',\n",
       " 'bw180830-48',\n",
       " 'bb190228-52',\n",
       " 'bw180827-53',\n",
       " 'bw180830-52b']"
      ]
     },
     "execution_count": 11,
     "metadata": {},
     "output_type": "execute_result"
    }
   ],
   "source": [
    "sizes = [(deployid, len(prh)) for deployid, prh in lunge_prhs.items()]\n",
    "sizes = sorted(sizes, key = lambda t: t[1])\n",
    "keep = [t[0] for t in sizes[0:10]]\n",
    "keep"
   ]
  },
  {
   "cell_type": "code",
   "execution_count": 12,
   "id": "piano-studio",
   "metadata": {},
   "outputs": [],
   "source": [
    "lunge_prhs_subset = {deployid: lunge_prhs[deployid] for deployid in keep}\n",
    "lunge_events_subset = {deployid: lunge_events[deployid] for deployid in keep}\n",
    "    \n",
    "with open(\"../data/lunges_subset.pkl\", \"wb\") as f:\n",
    "    pkl.dump((lunge_prhs_subset, lunge_events_subset), f)"
   ]
  },
  {
   "cell_type": "code",
   "execution_count": null,
   "id": "characteristic-sociology",
   "metadata": {},
   "outputs": [],
   "source": []
  }
 ],
 "metadata": {
  "kernelspec": {
   "display_name": "stickleback",
   "language": "python",
   "name": "stickleback"
  },
  "language_info": {
   "codemirror_mode": {
    "name": "ipython",
    "version": 3
   },
   "file_extension": ".py",
   "mimetype": "text/x-python",
   "name": "python",
   "nbconvert_exporter": "python",
   "pygments_lexer": "ipython3",
   "version": "3.8.0"
  }
 },
 "nbformat": 4,
 "nbformat_minor": 5
}
