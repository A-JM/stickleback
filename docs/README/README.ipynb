{
 "cells": [
  {
   "cell_type": "markdown",
   "metadata": {},
   "source": [
    "# `stickleback`\n",
    "\n",
    "> A machine learning pipeline for detecting fine-scale behavioral events in bio-logging data."
   ]
  },
  {
   "cell_type": "markdown",
   "metadata": {},
   "source": [
    "## Installation\n",
    "\n",
    "Install with pip.\n",
    "\n",
    "`pip install stickleback`"
   ]
  },
  {
   "cell_type": "markdown",
   "metadata": {},
   "source": [
    "## Key concepts\n",
    "\n",
    "* Behavioral events are brief behaviors that can be represented as a point in time, e.g. feeding or social interactions.\n",
    "* High-resolution bio-logging data (e.g. from accelerometers and magnetometers) are multi-variate time series. Traditional classifiers struggle with time series data.\n",
    "* `stickleback` takes a time series classification approach to detect behavioral events in longitudinal bio-logging data."
   ]
  },
  {
   "cell_type": "markdown",
   "metadata": {},
   "source": [
    "## Quick start\n",
    "\n",
    "### Load sample data\n",
    "\n",
    "The included sensor data contains the depth, pitch, roll, and speed of six blue whales at 10 Hz, and the event data contains the times of lunge-feeding behaviors."
   ]
  },
  {
   "cell_type": "code",
   "execution_count": null,
   "metadata": {},
   "outputs": [],
   "source": [
    "import pandas as pd\n",
    "import sktime.classification.interval_based\n",
    "import sktime.classification.compose\n",
    "from stickleback.stickleback import Stickleback\n",
    "import stickleback.data\n",
    "import stickleback.util\n",
    "import stickleback.visualize\n",
    "\n",
    "# Load sample data\n",
    "sensors, events = stickleback.data.load_lunges()\n",
    "\n",
    "# Split into test and train (3 deployments each)\n",
    "def split_dict(d, ks):\n",
    "    dict1 = {k: v for k, v in d.items() if k in ks}\n",
    "    dict2 = {k: v for k, v in d.items() if k not in ks}\n",
    "    return dict1, dict2\n",
    "\n",
    "test_deployids = list(sensors.keys())[0:2]\n",
    "sensors_test, sensors_train = split_dict(sensors, test_deployids)\n",
    "events_test, events_train = split_dict(events, test_deployids)"
   ]
  },
  {
   "cell_type": "code",
   "execution_count": null,
   "metadata": {},
   "outputs": [],
   "source": [
    "sensors[test_deployids[0]]"
   ]
  },
  {
   "cell_type": "markdown",
   "metadata": {},
   "source": [
    "### Visualize sensor and event data\n",
    "\n",
    "`plot_sensors_events()` produces an interactive figure for exploring bio-logger data."
   ]
  },
  {
   "cell_type": "code",
   "execution_count": null,
   "metadata": {
    "tags": [
     "nbconvert-skip"
    ]
   },
   "outputs": [],
   "source": [
    "# Choose one deployment to visualize\n",
    "deployid = list(sensors.keys())[0]\n",
    "stickleback.visualize.plot_sensors_events(deployid, sensors, events)"
   ]
  },
  {
   "cell_type": "markdown",
   "metadata": {},
   "source": [
    "![Animated loop of interactively exploring data with plot_sensors_events()](https://github.com/FlukeAndFeather/stickleback/raw/main/docs/resources/plot-sensors-events.gif)"
   ]
  },
  {
   "cell_type": "markdown",
   "metadata": {},
   "source": [
    "### Define model\n",
    "\n",
    "Initialize a `Stickleback` model using Supervised Time Series Forests and a 5 s window."
   ]
  },
  {
   "cell_type": "code",
   "execution_count": null,
   "metadata": {},
   "outputs": [],
   "source": [
    "# Supervised Time Series Forests ensembled across the columns of `sensors`\n",
    "cols = sensors[list(sensors.keys())[0]].columns\n",
    "tsc = sktime.classification.interval_based.SupervisedTimeSeriesForest(n_estimators=2,\n",
    "                                                                      random_state=4321)\n",
    "stsf = sktime.classification.compose.ColumnEnsembleClassifier(\n",
    "    estimators = [('STSF_{}'.format(col),\n",
    "                   tsc,\n",
    "                   [i])\n",
    "                  for i, col in enumerate(cols)]\n",
    ")\n",
    "\n",
    "sb = Stickleback(\n",
    "    local_clf=stsf,\n",
    "    win_size=50,\n",
    "    tol=pd.Timedelta(\"5s\"),\n",
    "    nth=10,\n",
    "    n_folds=4,\n",
    "    seed=1234\n",
    ")"
   ]
  },
  {
   "cell_type": "markdown",
   "metadata": {},
   "source": [
    "### Fit model\n",
    "\n",
    "Fit the `Stickleback` object to the training data."
   ]
  },
  {
   "cell_type": "code",
   "execution_count": null,
   "metadata": {},
   "outputs": [],
   "source": [
    "sb.fit(sensors_train, events_train)"
   ]
  },
  {
   "cell_type": "markdown",
   "metadata": {},
   "source": [
    "### Test model\n",
    "\n",
    "Use the fitted `Stickleback` model to predict occurence of lunge-feeding events in the test dataset."
   ]
  },
  {
   "cell_type": "code",
   "execution_count": null,
   "metadata": {},
   "outputs": [],
   "source": [
    "predictions = sb.predict(sensors_test)"
   ]
  },
  {
   "cell_type": "markdown",
   "metadata": {},
   "source": [
    "### Assess results\n",
    "\n",
    "Use the temporal tolerance (in this example, 5 s) to assess model predictions. Visualize with an outcome table and an interactive visualization. In the figure, blue = true positive, hollow red = false negative, and solid red = false positive."
   ]
  },
  {
   "cell_type": "code",
   "execution_count": null,
   "metadata": {},
   "outputs": [],
   "source": [
    "outcomes = sb.assess(predictions, events_test)\n",
    "stickleback.visualize.outcome_table(outcomes, sensors_test)"
   ]
  },
  {
   "cell_type": "code",
   "execution_count": null,
   "metadata": {
    "tags": [
     "nbconvert-skip"
    ]
   },
   "outputs": [],
   "source": [
    "deployid = list(events_test.keys())[0]\n",
    "stickleback.visualize.plot_predictions(deployid, \n",
    "                                       sensors_test, \n",
    "                                       predictions, \n",
    "                                       outcomes)"
   ]
  },
  {
   "cell_type": "markdown",
   "metadata": {},
   "source": [
    "![Animated loop of interactively exploring predictions with plot_predictions()](https://github.com/FlukeAndFeather/stickleback/raw/main/docs/resources/plot-predictions.gif)"
   ]
  }
 ],
 "metadata": {
  "celltoolbar": "Tags",
  "interpreter": {
   "hash": "d2099360a471a5e6a644c89f59463938ed74174ac5d00c625f8ffccb2bb50317"
  },
  "kernelspec": {
   "display_name": "Python 3.9.7 64-bit (conda)",
   "name": "python3"
  },
  "language_info": {
   "codemirror_mode": {
    "name": "ipython",
    "version": 3
   },
   "file_extension": ".py",
   "mimetype": "text/x-python",
   "name": "python",
   "nbconvert_exporter": "python",
   "pygments_lexer": "ipython3",
   "version": "3.9.7"
  }
 },
 "nbformat": 4,
 "nbformat_minor": 4
}
